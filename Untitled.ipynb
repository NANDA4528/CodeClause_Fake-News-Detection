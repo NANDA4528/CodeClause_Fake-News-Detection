{
 "cells": [
  {
   "cell_type": "code",
   "execution_count": 1,
   "id": "198e87d5",
   "metadata": {},
   "outputs": [],
   "source": [
    "import pandas as pd\n",
    "import numpy as np\n",
    "import re\n",
    "from sklearn.datasets import load_iris\n",
    "from sklearn.linear_model import PassiveAggressiveClassifier\n",
    "from nltk.corpus import stopwords\n",
    "from nltk.stem.porter import PorterStemmer\n",
    "from sklearn.feature_extraction.text import TfidfVectorizer\n",
    "from sklearn.model_selection import train_test_split\n",
    "from sklearn.linear_model import LogisticRegression\n",
    "from sklearn.metrics import accuracy_score\n",
    "from sklearn.metrics import classification_report\n",
    "import string "
   ]
  },
  {
   "cell_type": "code",
   "execution_count": 2,
   "id": "47bf2d42",
   "metadata": {},
   "outputs": [],
   "source": [
    "df_news = pd.read_csv(\"news.csv\")"
   ]
  },
  {
   "cell_type": "markdown",
   "id": "3bfba045",
   "metadata": {},
   "source": [
    "printing the values"
   ]
  },
  {
   "cell_type": "code",
   "execution_count": 3,
   "id": "4616f2d0",
   "metadata": {},
   "outputs": [
    {
     "data": {
      "text/html": [
       "<div>\n",
       "<style scoped>\n",
       "    .dataframe tbody tr th:only-of-type {\n",
       "        vertical-align: middle;\n",
       "    }\n",
       "\n",
       "    .dataframe tbody tr th {\n",
       "        vertical-align: top;\n",
       "    }\n",
       "\n",
       "    .dataframe thead th {\n",
       "        text-align: right;\n",
       "    }\n",
       "</style>\n",
       "<table border=\"1\" class=\"dataframe\">\n",
       "  <thead>\n",
       "    <tr style=\"text-align: right;\">\n",
       "      <th></th>\n",
       "      <th>Unnamed: 0</th>\n",
       "      <th>title</th>\n",
       "      <th>text</th>\n",
       "      <th>label</th>\n",
       "    </tr>\n",
       "  </thead>\n",
       "  <tbody>\n",
       "    <tr>\n",
       "      <th>0</th>\n",
       "      <td>8476</td>\n",
       "      <td>You Can Smell Hillary’s Fear</td>\n",
       "      <td>Daniel Greenfield, a Shillman Journalism Fello...</td>\n",
       "      <td>FAKE</td>\n",
       "    </tr>\n",
       "    <tr>\n",
       "      <th>1</th>\n",
       "      <td>10294</td>\n",
       "      <td>Watch The Exact Moment Paul Ryan Committed Pol...</td>\n",
       "      <td>Google Pinterest Digg Linkedin Reddit Stumbleu...</td>\n",
       "      <td>FAKE</td>\n",
       "    </tr>\n",
       "    <tr>\n",
       "      <th>2</th>\n",
       "      <td>3608</td>\n",
       "      <td>Kerry to go to Paris in gesture of sympathy</td>\n",
       "      <td>U.S. Secretary of State John F. Kerry said Mon...</td>\n",
       "      <td>REAL</td>\n",
       "    </tr>\n",
       "    <tr>\n",
       "      <th>3</th>\n",
       "      <td>10142</td>\n",
       "      <td>Bernie supporters on Twitter erupt in anger ag...</td>\n",
       "      <td>— Kaydee King (@KaydeeKing) November 9, 2016 T...</td>\n",
       "      <td>FAKE</td>\n",
       "    </tr>\n",
       "    <tr>\n",
       "      <th>4</th>\n",
       "      <td>875</td>\n",
       "      <td>The Battle of New York: Why This Primary Matters</td>\n",
       "      <td>It's primary day in New York and front-runners...</td>\n",
       "      <td>REAL</td>\n",
       "    </tr>\n",
       "  </tbody>\n",
       "</table>\n",
       "</div>"
      ],
      "text/plain": [
       "   Unnamed: 0                                              title  \\\n",
       "0        8476                       You Can Smell Hillary’s Fear   \n",
       "1       10294  Watch The Exact Moment Paul Ryan Committed Pol...   \n",
       "2        3608        Kerry to go to Paris in gesture of sympathy   \n",
       "3       10142  Bernie supporters on Twitter erupt in anger ag...   \n",
       "4         875   The Battle of New York: Why This Primary Matters   \n",
       "\n",
       "                                                text label  \n",
       "0  Daniel Greenfield, a Shillman Journalism Fello...  FAKE  \n",
       "1  Google Pinterest Digg Linkedin Reddit Stumbleu...  FAKE  \n",
       "2  U.S. Secretary of State John F. Kerry said Mon...  REAL  \n",
       "3  — Kaydee King (@KaydeeKing) November 9, 2016 T...  FAKE  \n",
       "4  It's primary day in New York and front-runners...  REAL  "
      ]
     },
     "execution_count": 3,
     "metadata": {},
     "output_type": "execute_result"
    }
   ],
   "source": [
    "df_news.head(5)"
   ]
  },
  {
   "cell_type": "code",
   "execution_count": 4,
   "id": "bcedd48d",
   "metadata": {},
   "outputs": [
    {
     "name": "stderr",
     "output_type": "stream",
     "text": [
      "[nltk_data] Downloading package stopwords to\n",
      "[nltk_data]     C:\\Users\\nanip\\AppData\\Roaming\\nltk_data...\n",
      "[nltk_data]   Package stopwords is already up-to-date!\n"
     ]
    },
    {
     "data": {
      "text/plain": [
       "True"
      ]
     },
     "execution_count": 4,
     "metadata": {},
     "output_type": "execute_result"
    }
   ],
   "source": [
    "import nltk\n",
    "nltk.download('stopwords')"
   ]
  },
  {
   "cell_type": "code",
   "execution_count": 5,
   "id": "55615ea9",
   "metadata": {},
   "outputs": [
    {
     "name": "stdout",
     "output_type": "stream",
     "text": [
      "['i', 'me', 'my', 'myself', 'we', 'our', 'ours', 'ourselves', 'you', \"you're\", \"you've\", \"you'll\", \"you'd\", 'your', 'yours', 'yourself', 'yourselves', 'he', 'him', 'his', 'himself', 'she', \"she's\", 'her', 'hers', 'herself', 'it', \"it's\", 'its', 'itself', 'they', 'them', 'their', 'theirs', 'themselves', 'what', 'which', 'who', 'whom', 'this', 'that', \"that'll\", 'these', 'those', 'am', 'is', 'are', 'was', 'were', 'be', 'been', 'being', 'have', 'has', 'had', 'having', 'do', 'does', 'did', 'doing', 'a', 'an', 'the', 'and', 'but', 'if', 'or', 'because', 'as', 'until', 'while', 'of', 'at', 'by', 'for', 'with', 'about', 'against', 'between', 'into', 'through', 'during', 'before', 'after', 'above', 'below', 'to', 'from', 'up', 'down', 'in', 'out', 'on', 'off', 'over', 'under', 'again', 'further', 'then', 'once', 'here', 'there', 'when', 'where', 'why', 'how', 'all', 'any', 'both', 'each', 'few', 'more', 'most', 'other', 'some', 'such', 'no', 'nor', 'not', 'only', 'own', 'same', 'so', 'than', 'too', 'very', 's', 't', 'can', 'will', 'just', 'don', \"don't\", 'should', \"should've\", 'now', 'd', 'll', 'm', 'o', 're', 've', 'y', 'ain', 'aren', \"aren't\", 'couldn', \"couldn't\", 'didn', \"didn't\", 'doesn', \"doesn't\", 'hadn', \"hadn't\", 'hasn', \"hasn't\", 'haven', \"haven't\", 'isn', \"isn't\", 'ma', 'mightn', \"mightn't\", 'mustn', \"mustn't\", 'needn', \"needn't\", 'shan', \"shan't\", 'shouldn', \"shouldn't\", 'wasn', \"wasn't\", 'weren', \"weren't\", 'won', \"won't\", 'wouldn', \"wouldn't\"]\n"
     ]
    }
   ],
   "source": [
    "#stopwords in english\n",
    "print(stopwords.words('english'))"
   ]
  },
  {
   "cell_type": "code",
   "execution_count": 6,
   "id": "93e8f8b8",
   "metadata": {},
   "outputs": [
    {
     "data": {
      "text/plain": [
       "Unnamed: 0    0\n",
       "title         0\n",
       "text          0\n",
       "label         0\n",
       "dtype: int64"
      ]
     },
     "execution_count": 6,
     "metadata": {},
     "output_type": "execute_result"
    }
   ],
   "source": [
    "#checking for null values\n",
    "df_news.isnull().sum()"
   ]
  },
  {
   "cell_type": "code",
   "execution_count": 7,
   "id": "d3c173cf",
   "metadata": {},
   "outputs": [],
   "source": [
    "#separating the data and label\n",
    "x = df_news.drop(columns='label',axis=1)\n",
    "y = df_news['label']"
   ]
  },
  {
   "cell_type": "code",
   "execution_count": 8,
   "id": "5d7d14d5",
   "metadata": {},
   "outputs": [
    {
     "name": "stdout",
     "output_type": "stream",
     "text": [
      "      Unnamed: 0                                              title  \\\n",
      "0           8476                       You Can Smell Hillary’s Fear   \n",
      "1          10294  Watch The Exact Moment Paul Ryan Committed Pol...   \n",
      "2           3608        Kerry to go to Paris in gesture of sympathy   \n",
      "3          10142  Bernie supporters on Twitter erupt in anger ag...   \n",
      "4            875   The Battle of New York: Why This Primary Matters   \n",
      "...          ...                                                ...   \n",
      "6330        4490  State Department says it can't find emails fro...   \n",
      "6331        8062  The ‘P’ in PBS Should Stand for ‘Plutocratic’ ...   \n",
      "6332        8622  Anti-Trump Protesters Are Tools of the Oligarc...   \n",
      "6333        4021  In Ethiopia, Obama seeks progress on peace, se...   \n",
      "6334        4330  Jeb Bush Is Suddenly Attacking Trump. Here's W...   \n",
      "\n",
      "                                                   text  \n",
      "0     Daniel Greenfield, a Shillman Journalism Fello...  \n",
      "1     Google Pinterest Digg Linkedin Reddit Stumbleu...  \n",
      "2     U.S. Secretary of State John F. Kerry said Mon...  \n",
      "3     — Kaydee King (@KaydeeKing) November 9, 2016 T...  \n",
      "4     It's primary day in New York and front-runners...  \n",
      "...                                                 ...  \n",
      "6330  The State Department told the Republican Natio...  \n",
      "6331  The ‘P’ in PBS Should Stand for ‘Plutocratic’ ...  \n",
      "6332   Anti-Trump Protesters Are Tools of the Oligar...  \n",
      "6333  ADDIS ABABA, Ethiopia —President Obama convene...  \n",
      "6334  Jeb Bush Is Suddenly Attacking Trump. Here's W...  \n",
      "\n",
      "[6335 rows x 3 columns]\n",
      "0       FAKE\n",
      "1       FAKE\n",
      "2       REAL\n",
      "3       FAKE\n",
      "4       REAL\n",
      "        ... \n",
      "6330    REAL\n",
      "6331    FAKE\n",
      "6332    FAKE\n",
      "6333    REAL\n",
      "6334    REAL\n",
      "Name: label, Length: 6335, dtype: object\n"
     ]
    }
   ],
   "source": [
    "print(x)\n",
    "print(y)"
   ]
  },
  {
   "cell_type": "code",
   "execution_count": 9,
   "id": "980e4801",
   "metadata": {},
   "outputs": [],
   "source": [
    "#stemming\n",
    "port_stem = PorterStemmer()"
   ]
  },
  {
   "cell_type": "code",
   "execution_count": 10,
   "id": "390698ae",
   "metadata": {},
   "outputs": [],
   "source": [
    "def stemming(text):\n",
    "    stemmed_content = re.sub('[^a-zA-Z]',' ',text)\n",
    "    stemmed_content = stemmed_content.lower()\n",
    "    stemmed_content = stemmed_content.split()\n",
    "    stemmed_content = [port_stem.stem(word) for word in stemmed_content if not word in stopwords.words('english')]\n",
    "    stemmed_content = ' '.join(stemmed_content)\n",
    "    return stemmed_content"
   ]
  },
  {
   "cell_type": "code",
   "execution_count": 11,
   "id": "8fdbc0f8",
   "metadata": {},
   "outputs": [],
   "source": [
    "df_news['title'] = df_news['title'].apply(stemming)"
   ]
  },
  {
   "cell_type": "code",
   "execution_count": 12,
   "id": "3e947c34",
   "metadata": {},
   "outputs": [
    {
     "name": "stdout",
     "output_type": "stream",
     "text": [
      "0                                      smell hillari fear\n",
      "1       watch exact moment paul ryan commit polit suic...\n",
      "2                           kerri go pari gestur sympathi\n",
      "3          berni support twitter erupt anger dnc tri warn\n",
      "4                           battl new york primari matter\n",
      "                              ...                        \n",
      "6330       state depart say find email clinton specialist\n",
      "6331                        p pb stand plutocrat pentagon\n",
      "6332             anti trump protest tool oligarchi inform\n",
      "6333    ethiopia obama seek progress peac secur east a...\n",
      "6334                jeb bush suddenli attack trump matter\n",
      "Name: title, Length: 6335, dtype: object\n"
     ]
    }
   ],
   "source": [
    "#stemmed content\n",
    "print(df_news['title'])"
   ]
  },
  {
   "cell_type": "code",
   "execution_count": 13,
   "id": "826c1135",
   "metadata": {},
   "outputs": [],
   "source": [
    "x = df_news['title'].values\n",
    "y = df_news['label'].values"
   ]
  },
  {
   "cell_type": "code",
   "execution_count": 14,
   "id": "acf150cf",
   "metadata": {},
   "outputs": [
    {
     "name": "stdout",
     "output_type": "stream",
     "text": [
      "['smell hillari fear'\n",
      " 'watch exact moment paul ryan commit polit suicid trump ralli video'\n",
      " 'kerri go pari gestur sympathi' ...\n",
      " 'anti trump protest tool oligarchi inform'\n",
      " 'ethiopia obama seek progress peac secur east africa'\n",
      " 'jeb bush suddenli attack trump matter']\n",
      "['FAKE' 'FAKE' 'REAL' ... 'FAKE' 'REAL' 'REAL']\n"
     ]
    }
   ],
   "source": [
    "print(x)\n",
    "print(y)"
   ]
  },
  {
   "cell_type": "code",
   "execution_count": 15,
   "id": "408ccf87",
   "metadata": {},
   "outputs": [],
   "source": [
    "#converting the textual data into numerical data\n",
    "vectorizer = TfidfVectorizer()\n",
    "vectorizer.fit(x)\n",
    "x = vectorizer.transform(x)"
   ]
  },
  {
   "cell_type": "code",
   "execution_count": 16,
   "id": "9c7fd852",
   "metadata": {},
   "outputs": [
    {
     "name": "stdout",
     "output_type": "stream",
     "text": [
      "  (0, 5631)\t0.7649346276717717\n",
      "  (0, 2817)\t0.31703295849951846\n",
      "  (0, 2230)\t0.5606827254461214\n",
      "  (1, 6671)\t0.27855534550881683\n",
      "  (1, 6571)\t0.21736822482437437\n",
      "  (1, 6315)\t0.13561903129801023\n",
      "  (1, 5933)\t0.3501812302002013\n",
      "  (1, 5263)\t0.29163264316148546\n",
      "  (1, 4905)\t0.29382045650093463\n",
      "  (1, 4630)\t0.24403179029804972\n",
      "  (1, 4462)\t0.26757273402295384\n",
      "  (1, 3939)\t0.3279355637571237\n",
      "  (1, 2101)\t0.44595444447238664\n",
      "  (1, 1212)\t0.3538286538491304\n",
      "  (2, 6015)\t0.5345737509664292\n",
      "  (2, 4428)\t0.37615749278439464\n",
      "  (2, 3335)\t0.41740393299177314\n",
      "  (2, 2576)\t0.3357697230253524\n",
      "  (2, 2536)\t0.5345737509664292\n",
      "  (3, 6658)\t0.3169347988352881\n",
      "  (3, 6359)\t0.3719244073533966\n",
      "  (3, 6288)\t0.31487349957846533\n",
      "  (3, 5956)\t0.2780361491213491\n",
      "  (3, 2048)\t0.44483942568507917\n",
      "  (3, 1764)\t0.35074544989300727\n",
      "  :\t:\n",
      "  (6330, 1133)\t0.2086414599045263\n",
      "  (6331, 5796)\t0.38445288563338503\n",
      "  (6331, 4611)\t0.5530926787707366\n",
      "  (6331, 4493)\t0.45939150101458504\n",
      "  (6331, 4474)\t0.5790025183139886\n",
      "  (6332, 6315)\t0.177445191694796\n",
      "  (6332, 6213)\t0.5388543882104704\n",
      "  (6332, 4797)\t0.3475689418147302\n",
      "  (6332, 4270)\t0.5127436972273209\n",
      "  (6332, 3055)\t0.40296322598470885\n",
      "  (6332, 240)\t0.36339994825833366\n",
      "  (6333, 5399)\t0.33359399099990117\n",
      "  (6333, 5396)\t0.3167968586319597\n",
      "  (6333, 4771)\t0.36465705907770063\n",
      "  (6333, 4477)\t0.36465705907770063\n",
      "  (6333, 4225)\t0.1993437849607953\n",
      "  (6333, 2065)\t0.4254113906118226\n",
      "  (6333, 1894)\t0.37550259234898764\n",
      "  (6333, 97)\t0.40086190307098823\n",
      "  (6334, 6315)\t0.1943781508679834\n",
      "  (6334, 5926)\t0.5902753327213516\n",
      "  (6334, 3760)\t0.4278462554978103\n",
      "  (6334, 3210)\t0.4041108135061054\n",
      "  (6334, 852)\t0.3798375641932667\n",
      "  (6334, 368)\t0.35093820387285196\n"
     ]
    }
   ],
   "source": [
    "print(x)"
   ]
  },
  {
   "cell_type": "code",
   "execution_count": 17,
   "id": "767d60d4",
   "metadata": {},
   "outputs": [],
   "source": [
    "#Splitting the dataset to training and testing\n",
    "x_train, x_test, y_train, y_test = train_test_split(x, y, test_size = 0.2,stratify = y, random_state=2)"
   ]
  },
  {
   "cell_type": "markdown",
   "id": "e3cab597",
   "metadata": {},
   "source": [
    "# PassiveAggressiveClassification"
   ]
  },
  {
   "cell_type": "code",
   "execution_count": 18,
   "id": "25052422",
   "metadata": {},
   "outputs": [],
   "source": [
    "dataset = load_iris()\n",
    "X = dataset.data\n",
    "y = dataset.target"
   ]
  },
  {
   "cell_type": "code",
   "execution_count": 19,
   "id": "6c0e3cbb",
   "metadata": {},
   "outputs": [],
   "source": [
    "modal = PassiveAggressiveClassifier(max_iter=1000, random_state=42)"
   ]
  },
  {
   "cell_type": "code",
   "execution_count": 20,
   "id": "fa0bf279",
   "metadata": {},
   "outputs": [
    {
     "data": {
      "text/html": [
       "<style>#sk-container-id-1 {color: black;background-color: white;}#sk-container-id-1 pre{padding: 0;}#sk-container-id-1 div.sk-toggleable {background-color: white;}#sk-container-id-1 label.sk-toggleable__label {cursor: pointer;display: block;width: 100%;margin-bottom: 0;padding: 0.3em;box-sizing: border-box;text-align: center;}#sk-container-id-1 label.sk-toggleable__label-arrow:before {content: \"▸\";float: left;margin-right: 0.25em;color: #696969;}#sk-container-id-1 label.sk-toggleable__label-arrow:hover:before {color: black;}#sk-container-id-1 div.sk-estimator:hover label.sk-toggleable__label-arrow:before {color: black;}#sk-container-id-1 div.sk-toggleable__content {max-height: 0;max-width: 0;overflow: hidden;text-align: left;background-color: #f0f8ff;}#sk-container-id-1 div.sk-toggleable__content pre {margin: 0.2em;color: black;border-radius: 0.25em;background-color: #f0f8ff;}#sk-container-id-1 input.sk-toggleable__control:checked~div.sk-toggleable__content {max-height: 200px;max-width: 100%;overflow: auto;}#sk-container-id-1 input.sk-toggleable__control:checked~label.sk-toggleable__label-arrow:before {content: \"▾\";}#sk-container-id-1 div.sk-estimator input.sk-toggleable__control:checked~label.sk-toggleable__label {background-color: #d4ebff;}#sk-container-id-1 div.sk-label input.sk-toggleable__control:checked~label.sk-toggleable__label {background-color: #d4ebff;}#sk-container-id-1 input.sk-hidden--visually {border: 0;clip: rect(1px 1px 1px 1px);clip: rect(1px, 1px, 1px, 1px);height: 1px;margin: -1px;overflow: hidden;padding: 0;position: absolute;width: 1px;}#sk-container-id-1 div.sk-estimator {font-family: monospace;background-color: #f0f8ff;border: 1px dotted black;border-radius: 0.25em;box-sizing: border-box;margin-bottom: 0.5em;}#sk-container-id-1 div.sk-estimator:hover {background-color: #d4ebff;}#sk-container-id-1 div.sk-parallel-item::after {content: \"\";width: 100%;border-bottom: 1px solid gray;flex-grow: 1;}#sk-container-id-1 div.sk-label:hover label.sk-toggleable__label {background-color: #d4ebff;}#sk-container-id-1 div.sk-serial::before {content: \"\";position: absolute;border-left: 1px solid gray;box-sizing: border-box;top: 0;bottom: 0;left: 50%;z-index: 0;}#sk-container-id-1 div.sk-serial {display: flex;flex-direction: column;align-items: center;background-color: white;padding-right: 0.2em;padding-left: 0.2em;position: relative;}#sk-container-id-1 div.sk-item {position: relative;z-index: 1;}#sk-container-id-1 div.sk-parallel {display: flex;align-items: stretch;justify-content: center;background-color: white;position: relative;}#sk-container-id-1 div.sk-item::before, #sk-container-id-1 div.sk-parallel-item::before {content: \"\";position: absolute;border-left: 1px solid gray;box-sizing: border-box;top: 0;bottom: 0;left: 50%;z-index: -1;}#sk-container-id-1 div.sk-parallel-item {display: flex;flex-direction: column;z-index: 1;position: relative;background-color: white;}#sk-container-id-1 div.sk-parallel-item:first-child::after {align-self: flex-end;width: 50%;}#sk-container-id-1 div.sk-parallel-item:last-child::after {align-self: flex-start;width: 50%;}#sk-container-id-1 div.sk-parallel-item:only-child::after {width: 0;}#sk-container-id-1 div.sk-dashed-wrapped {border: 1px dashed gray;margin: 0 0.4em 0.5em 0.4em;box-sizing: border-box;padding-bottom: 0.4em;background-color: white;}#sk-container-id-1 div.sk-label label {font-family: monospace;font-weight: bold;display: inline-block;line-height: 1.2em;}#sk-container-id-1 div.sk-label-container {text-align: center;}#sk-container-id-1 div.sk-container {/* jupyter's `normalize.less` sets `[hidden] { display: none; }` but bootstrap.min.css set `[hidden] { display: none !important; }` so we also need the `!important` here to be able to override the default hidden behavior on the sphinx rendered scikit-learn.org. See: https://github.com/scikit-learn/scikit-learn/issues/21755 */display: inline-block !important;position: relative;}#sk-container-id-1 div.sk-text-repr-fallback {display: none;}</style><div id=\"sk-container-id-1\" class=\"sk-top-container\"><div class=\"sk-text-repr-fallback\"><pre>PassiveAggressiveClassifier(random_state=42)</pre><b>In a Jupyter environment, please rerun this cell to show the HTML representation or trust the notebook. <br />On GitHub, the HTML representation is unable to render, please try loading this page with nbviewer.org.</b></div><div class=\"sk-container\" hidden><div class=\"sk-item\"><div class=\"sk-estimator sk-toggleable\"><input class=\"sk-toggleable__control sk-hidden--visually\" id=\"sk-estimator-id-1\" type=\"checkbox\" checked><label for=\"sk-estimator-id-1\" class=\"sk-toggleable__label sk-toggleable__label-arrow\">PassiveAggressiveClassifier</label><div class=\"sk-toggleable__content\"><pre>PassiveAggressiveClassifier(random_state=42)</pre></div></div></div></div></div>"
      ],
      "text/plain": [
       "PassiveAggressiveClassifier(random_state=42)"
      ]
     },
     "execution_count": 20,
     "metadata": {},
     "output_type": "execute_result"
    }
   ],
   "source": [
    "modal.fit(x_train,y_train)"
   ]
  },
  {
   "cell_type": "code",
   "execution_count": 22,
   "id": "b4ea3c77",
   "metadata": {},
   "outputs": [],
   "source": [
    "test_pred = modal.predict(x_test)"
   ]
  },
  {
   "cell_type": "code",
   "execution_count": 23,
   "id": "e5b8bf16",
   "metadata": {},
   "outputs": [
    {
     "name": "stdout",
     "output_type": "stream",
     "text": [
      "Test Set Accuracy : 77.26913970007892 %\n",
      "\n",
      "\n",
      "Classification Report : \n",
      "\n",
      "              precision    recall  f1-score   support\n",
      "\n",
      "        FAKE       0.79      0.75      0.77       633\n",
      "        REAL       0.76      0.80      0.78       634\n",
      "\n",
      "    accuracy                           0.77      1267\n",
      "   macro avg       0.77      0.77      0.77      1267\n",
      "weighted avg       0.77      0.77      0.77      1267\n",
      "\n"
     ]
    }
   ],
   "source": [
    "# Model evaluation\n",
    "print(f\"Test Set Accuracy : {accuracy_score(y_test, test_pred) * 100} %\\n\\n\") \n",
    " \n",
    "print(f\"Classification Report : \\n\\n{classification_report(y_test, test_pred)}\")"
   ]
  },
  {
   "cell_type": "markdown",
   "id": "ba515a0c",
   "metadata": {},
   "source": [
    "Prediction"
   ]
  },
  {
   "cell_type": "code",
   "execution_count": 24,
   "id": "052b4084",
   "metadata": {},
   "outputs": [
    {
     "data": {
      "text/plain": [
       "(6335, 4)"
      ]
     },
     "execution_count": 24,
     "metadata": {},
     "output_type": "execute_result"
    }
   ],
   "source": [
    "df_news.shape"
   ]
  },
  {
   "cell_type": "code",
   "execution_count": 25,
   "id": "523ff68d",
   "metadata": {},
   "outputs": [
    {
     "name": "stdout",
     "output_type": "stream",
     "text": [
      "['FAKE']\n"
     ]
    },
    {
     "name": "stderr",
     "output_type": "stream",
     "text": [
      "C:\\Users\\nanip\\AppData\\Local\\Temp\\ipykernel_22648\\3435615285.py:3: FutureWarning: elementwise comparison failed; returning scalar instead, but in the future will perform elementwise comparison\n",
      "  if (n==0):\n"
     ]
    }
   ],
   "source": [
    "x_new = x_test[63]\n",
    "def output_lable(n):\n",
    "    if (n==0):\n",
    "        return('The news is Real')\n",
    "    else:\n",
    "        return('The news is Fake')\n",
    "n = modal.predict(x_new)\n",
    "output_lable(n)\n",
    "print(n)"
   ]
  },
  {
   "cell_type": "code",
   "execution_count": 26,
   "id": "cd04052f",
   "metadata": {},
   "outputs": [
    {
     "name": "stdout",
     "output_type": "stream",
     "text": [
      "FAKE\n"
     ]
    }
   ],
   "source": [
    "print(df_news.label[63])"
   ]
  },
  {
   "cell_type": "markdown",
   "id": "ab47c45f",
   "metadata": {},
   "source": [
    "Manual testing"
   ]
  },
  {
   "cell_type": "code",
   "execution_count": 27,
   "id": "e4f42765",
   "metadata": {},
   "outputs": [],
   "source": [
    "def manual_testing(news):\n",
    "    testing_news = {\"text\":[news]}\n",
    "    new_def_test = pd.DataFrame(testing_news)\n",
    "    new_def_test[\"text\"] = new_def_test[\"text\"].apply(stemming) \n",
    "    new_x_test = new_def_test[\"text\"]\n",
    "    new_xv_test = vectorizer.transform(new_x_test)\n",
    "    pred_LR = modal.predict(new_xv_test)\n",
    "    return print(\"LR Prediction:\",output_lable(pred_LR))"
   ]
  },
  {
   "cell_type": "code",
   "execution_count": 29,
   "id": "2035b19b",
   "metadata": {},
   "outputs": [
    {
     "name": "stdout",
     "output_type": "stream",
     "text": [
      "You Can Smell Hillaryâ€™s Fear\n",
      "LR Prediction: The news is Fake\n"
     ]
    },
    {
     "name": "stderr",
     "output_type": "stream",
     "text": [
      "C:\\Users\\nanip\\AppData\\Local\\Temp\\ipykernel_22648\\3435615285.py:3: FutureWarning: elementwise comparison failed; returning scalar instead, but in the future will perform elementwise comparison\n",
      "  if (n==0):\n"
     ]
    }
   ],
   "source": [
    "news = str(input())\n",
    "manual_testing(news)"
   ]
  },
  {
   "cell_type": "code",
   "execution_count": 30,
   "id": "507e2f2d",
   "metadata": {},
   "outputs": [
    {
     "name": "stdout",
     "output_type": "stream",
     "text": [
      "FAKE\n"
     ]
    }
   ],
   "source": [
    "print(df_news.label[0])"
   ]
  },
  {
   "cell_type": "code",
   "execution_count": null,
   "id": "c32b1968",
   "metadata": {},
   "outputs": [],
   "source": []
  }
 ],
 "metadata": {
  "kernelspec": {
   "display_name": "Python 3 (ipykernel)",
   "language": "python",
   "name": "python3"
  },
  "language_info": {
   "codemirror_mode": {
    "name": "ipython",
    "version": 3
   },
   "file_extension": ".py",
   "mimetype": "text/x-python",
   "name": "python",
   "nbconvert_exporter": "python",
   "pygments_lexer": "ipython3",
   "version": "3.10.9"
  }
 },
 "nbformat": 4,
 "nbformat_minor": 5
}
